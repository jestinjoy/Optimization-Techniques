{
 "cells": [
  {
   "cell_type": "markdown",
   "metadata": {},
   "source": [
    "### Week 2: Question 9\n",
    "\n",
    "Minimize $5x_1+8x_2$\n",
    "Subject to\n",
    "    $$x_1 + x_2 \\leq 6$$\n",
    "    $$x_1 + x_2 \\geq 2$$\n",
    "    $$x_1 - x_2 \\leq 2$$\n",
    "    $$x_1 - x_2 \\geq -2$$ \n",
    "    $$x_1, x_2 \\geq 0$$\n",
    "\n",
    "$\\geq$ constraint needs to be negated to convert it into $\\leq$ constraint. So the constraint $x_1 + x_2 \\geq 2$ becomes $-x_1 - x_2 \\leq -2$ and $x_1 - x_2 \\geq -2$ becomes $-x_1 + x_2 \\leq 2$\n"
   ]
  },
  {
   "cell_type": "markdown",
   "metadata": {},
   "source": [
    "LP solver function provided by `scipy` for solving this is \n",
    "```python \n",
    "linprog(c, A_ub=A_ub, b_ub=b_ub,bounds=(0, None))\n",
    "```\n",
    "1. c: Coefficients of the linear objective function to be minimized\n",
    "2. A_ub: Values of the upper-bound inequality constraints in `x`\n",
    "3. b_ub:  Upper-bound of each inequality constraint \n",
    "4. bounds: `(min, max)` pairs for each element in x, defining the bounds on that parameter. Use None for one of min or max when there is no bound in that direction. By default bounds are `(0, None)` \n",
    "\n",
    "For the given problem\n",
    "\n",
    "```python \n",
    "c = np.array([5, 8])\n",
    "A_ub = np.array([\n",
    "[1, 1],\n",
    "[-1,-1],\n",
    "[1,-1],\n",
    "[-1,1]])\n",
    "b_ub = np.array([6,-2,2,2])\n",
    "bounds=(0, None)\n",
    "```\n",
    "`(0,None)` is given since $x_1,x_2 \\geq 0$"
   ]
  },
  {
   "cell_type": "code",
   "execution_count": 6,
   "metadata": {
    "collapsed": false
   },
   "outputs": [
    {
     "name": "stdout",
     "output_type": "stream",
     "text": [
      "Optimal value:  10.0\n",
      "x:  [2. 0.]\n"
     ]
    }
   ],
   "source": [
    "import numpy as np\n",
    "from scipy.optimize import linprog\n",
    "\n",
    "c = np.array([5, 8])\n",
    "\n",
    "A_ub = np.array([\n",
    "[1, 1],\n",
    "[-1,-1],\n",
    "[1,-1],\n",
    "[-1,1]])\n",
    "\n",
    "b_ub = np.array([6,-2,2,2])\n",
    "\n",
    "res = linprog(c, A_ub=A_ub, b_ub=b_ub,bounds=(0, None))\n",
    "print \"Optimal value: \",res.fun\n",
    "print \"x: \",res.x"
   ]
  },
  {
   "cell_type": "markdown",
   "metadata": {},
   "source": [
    "### Week 2: Question 6\n",
    "\n",
    "Maximize $7x_1+6x_2$\n",
    "Subject to\n",
    "    $$x_1 \\leq 4$$\n",
    "    $$x_1 - x_2 \\geq 0$$\n",
    "    $$x_1, x_2 \\geq 0$$\n",
    "\n",
    "$\\geq$ constraint needs to be negated to convert it into $\\leq$ constraint. So the constraint $x_1 - x_2 \\geq 0$ becomes $-x_1 + x_2 \\leq 0$. \n",
    "\n",
    "**Also maximization problem needs to be converted to minimization problem by negating it and take negation of final answer. That is $7x_1+6x_2$ becomes $-7x_1-6x_2$**\n",
    "\n",
    "From the given problem\n",
    "\n",
    "```python \n",
    "c = np.array([-7, -6])\n",
    "A_ub = np.array([\n",
    "[1, 0],\n",
    "[-1,1]])\n",
    "b_ub = np.array([4, 0])\n",
    "bounds=(0, None)\n",
    "```\n",
    "`(0,None)` is given since $x_1,x_2 \\geq 0$\n"
   ]
  },
  {
   "cell_type": "code",
   "execution_count": 7,
   "metadata": {
    "collapsed": false
   },
   "outputs": [
    {
     "name": "stdout",
     "output_type": "stream",
     "text": [
      "Optimal value:  -52.0\n",
      "x:  [4. 4.]\n"
     ]
    }
   ],
   "source": [
    "import numpy as np\n",
    "from scipy.optimize import linprog\n",
    "\n",
    "c = np.array([-7, -6])\n",
    "\n",
    "A_ub = np.array([\n",
    "[1, 0],\n",
    "[-1,1]])\n",
    "\n",
    "b_ub = np.array([4, 0])\n",
    "\n",
    "res = linprog(c, A_ub=A_ub, b_ub=b_ub,bounds=(0, None))\n",
    "\n",
    "print \"Optimal value: \",res.fun\n",
    "print \"x: \",res.x"
   ]
  },
  {
   "cell_type": "markdown",
   "metadata": {},
   "source": [
    "**Answer should be taken as 52**"
   ]
  }
 ],
 "metadata": {
  "kernelspec": {
   "display_name": "Python 2",
   "language": "python",
   "name": "python2"
  },
  "language_info": {
   "codemirror_mode": {
    "name": "ipython",
    "version": 2
   },
   "file_extension": ".py",
   "mimetype": "text/x-python",
   "name": "python",
   "nbconvert_exporter": "python",
   "pygments_lexer": "ipython2",
   "version": "2.7.13"
  }
 },
 "nbformat": 4,
 "nbformat_minor": 2
}
